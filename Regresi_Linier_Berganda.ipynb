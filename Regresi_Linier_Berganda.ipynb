{
  "nbformat": 4,
  "nbformat_minor": 0,
  "metadata": {
    "colab": {
      "name": "Regresi Linier Berganda.ipynb",
      "provenance": [],
      "collapsed_sections": [],
      "toc_visible": true
    },
    "kernelspec": {
      "name": "python3",
      "display_name": "Python 3"
    },
    "language_info": {
      "name": "python"
    }
  },
  "cells": [
    {
      "cell_type": "code",
      "source": [
        "!pip install -q tensorflow-datasets tensorflow"
      ],
      "metadata": {
        "id": "awrp9O3mip3N"
      },
      "execution_count": 2,
      "outputs": []
    },
    {
      "cell_type": "code",
      "execution_count": 4,
      "metadata": {
        "colab": {
          "base_uri": "https://localhost:8080/"
        },
        "id": "3Jqe3QaZicyd",
        "outputId": "2585d365-d380-4658-87db-1e5122193118"
      },
      "outputs": [
        {
          "output_type": "stream",
          "name": "stdout",
          "text": [
            "Statsmodels parameters:\n",
            "[0.523 0.25  0.063]\n",
            "Tensorflow parameters:\n",
            "[0.53  0.251 0.064]\n"
          ]
        }
      ],
      "source": [
        "import numpy as np\n",
        "import statsmodels.api as sm\n",
        "import tensorflow as tf\n",
        "\n",
        "np.random.seed(0)\n",
        "\n",
        "N = 500    # number of samples\n",
        "K = 2      # number of features\n",
        "\n",
        "# generate the features\n",
        "m = np.array([0, 0])     # means\n",
        "s = np.array([5, 1000])  # variances\n",
        "X = np.random.multivariate_normal(m * np.ones(K), s * np.eye(K), N)\n",
        "\n",
        "# generate the target\n",
        "b = 0.5                   # bias\n",
        "w = np.array([0.107, 0])  # weights\n",
        "y = b + np.dot(X, w) + np.random.normal(0, 1, N)\n",
        "\n",
        "# normalize the features\n",
        "X = (X - np.mean(X, axis=0)) / np.std(X, axis=0, ddof=1)\n",
        "\n",
        "# run a linear regression with statsmodels\n",
        "reg = sm.OLS(y, sm.add_constant(X)).fit()\n",
        "\n",
        "# run a linear regression with tensorflow\n",
        "model = tf.keras.Sequential([\n",
        "  tf.keras.layers.Dense(units=1)\n",
        "])\n",
        "\n",
        "model.compile(loss=tf.losses.MeanSquaredError(), optimizer=tf.keras.optimizers.SGD(learning_rate=0.01))\n",
        "model.fit(X, y, epochs=1000, verbose=0)\n",
        "\n",
        "bias = model.layers[0].get_weights()[1]\n",
        "weights = model.layers[0].get_weights()[0].flatten()\n",
        "\n",
        "# compare the parameters\n",
        "print('Statsmodels parameters:')\n",
        "print(np.round(reg.params, 3))\n",
        "# [0.523 0.25 0.063]\n",
        "\n",
        "print('Tensorflow parameters:')\n",
        "print(np.round(np.append(bias, weights), 3))\n",
        "# [0.528 0.25 0.066]"
      ]
    }
  ]
}